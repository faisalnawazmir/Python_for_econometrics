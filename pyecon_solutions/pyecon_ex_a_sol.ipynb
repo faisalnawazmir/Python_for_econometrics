{
 "cells": [
  {
   "cell_type": "markdown",
   "metadata": {},
   "source": [
    "# Exercises A: Solutions\n",
    "_Version: October 31, 2020, see_ [PyEcon.org](https://pyecon.org)."
   ]
  },
  {
   "cell_type": "markdown",
   "metadata": {},
   "source": [
    "### Exercise 1\n",
    "Create a function which takes a vector $v=(v_1, \\dots ,v_n)$ and returns the Vandermonde matrix $V$:\n",
    "$$\n",
    "V = \\left(\\begin{array}{ccccc}\n",
    "1 & v_1 & v_1^2 & \\dots & v_1^{n-1}\\\\\n",
    "1 & v_2 & v_2^2 & \\dots & v_2^{n-1}\\\\\n",
    "\\vdots & \\vdots & \\vdots & \\vdots & \\vdots\\\\\n",
    "1 & v_n & v_n^2 & \\dots & v_n^{n-1}\\\\\n",
    "\\end{array} \\right)\n",
    "$$"
   ]
  },
  {
   "cell_type": "code",
   "execution_count": null,
   "metadata": {},
   "outputs": [],
   "source": [
    "import numpy as np\n",
    "\n",
    "\n",
    "def vandermonde(v):\n",
    "    n = len(v)\n",
    "    x = v\n",
    "    w = np.arange(n)\n",
    "    y = w\n",
    "    for i in range(n - 1):\n",
    "        v = np.append(v, x)\n",
    "        w = np.append(w, y)\n",
    "    v_mat = v.reshape((n, n)).T\n",
    "    b_mat = w.reshape((n, n))\n",
    "    return v_mat**b_mat\n",
    "\n",
    "\n",
    "def vandermonde2(v):\n",
    "    n = len(v)\n",
    "    x = np.empty((n, n))\n",
    "    for i in range(n):\n",
    "        for j in range(n):\n",
    "            x[i, j] = v[i]**j\n",
    "    return x\n",
    "\n",
    "\n",
    "def vandermonde3(v):\n",
    "    n = len(v)\n",
    "    x = []\n",
    "    for i in v:\n",
    "        for j in range(n):  # [0, 1, 2, 3]\n",
    "            x.append(i**j)\n",
    "    x = np.array(x)\n",
    "    x.resize((n, n))\n",
    "    return x\n",
    "\n",
    "\n",
    "v = np.array([1, 2, 3, 4])\n",
    "vandermonde3(v)"
   ]
  },
  {
   "cell_type": "markdown",
   "metadata": {},
   "source": [
    "### Exercise 2\n",
    "\n",
    "Create a function which takes a vector $v=(v_1, \\dots ,v_n)$ and returns the mean and the sum of the vector.\n",
    "\n",
    "1. Solve the task by using NumPy.\n",
    "2. Solve the task without importing modules."
   ]
  },
  {
   "cell_type": "code",
   "execution_count": null,
   "metadata": {},
   "outputs": [],
   "source": [
    "# 1\n",
    "import numpy as np\n",
    "\n",
    "\n",
    "def mean_sum(v):\n",
    "    return v.mean(), v.sum()\n",
    "\n",
    "\n",
    "y = np.array([1, 2, 3, 4])\n",
    "mean_sum(y)"
   ]
  },
  {
   "cell_type": "code",
   "execution_count": null,
   "metadata": {},
   "outputs": [],
   "source": [
    "# 2\n",
    "y = [1, 2, 3, 4]\n",
    "\n",
    "\n",
    "def sum_mean(v):\n",
    "    x = 0\n",
    "    for i in v:\n",
    "        x += i\n",
    "    return x / len(v), x\n",
    "\n",
    "\n",
    "sum_mean(y)"
   ]
  },
  {
   "cell_type": "markdown",
   "metadata": {},
   "source": [
    "### Exercise 3\n",
    "\n",
    "Use NumPy to check if the following vectors are linearly independent:\n",
    "\n",
    "$$\n",
    "v_1=\n",
    "\\left( \\begin{array}{c} 0 \\\\ 1 \\\\ 2 \\\\ 1 \\end{array} \\right),\n",
    "\\ v_2=\n",
    "\\left( \\begin{array}{c} 4 \\\\ 2 \\\\ 2 \\\\ 2 \\end{array} \\right),\n",
    "\\ v_3=\n",
    " \\left( \\begin{array}{c} 1 \\\\ 0 \\\\ 3 \\\\  0\\end{array} \\right),\n",
    "\\ v_4=\n",
    " \\left( \\begin{array}{c} 1 \\\\ 0 \\\\ 0 \\\\ 0 \\end{array} \\right).\n",
    "$$"
   ]
  },
  {
   "cell_type": "code",
   "execution_count": null,
   "metadata": {},
   "outputs": [],
   "source": [
    "import numpy.linalg as nplin\n",
    "\n",
    "m = np.array([[0, 4, 1, 1], [1, 2, 0, 0], [2, 2, 3, 0], [1, 2, 0, 0]])\n",
    "print(m)\n",
    "\n",
    "if nplin.det(m) != 0:\n",
    "    print(\"Vectors are linearly independent.\")\n",
    "else:\n",
    "    print(\"Vectors are linearly dependent.\")\n",
    "\n",
    "# Vectors are not linearly independent"
   ]
  },
  {
   "cell_type": "markdown",
   "metadata": {},
   "source": [
    "### Exercise 4\n",
    "\n",
    "Create a function which sorts the vector $v=(v_1, \\dots ,v_n)$ without using the built-in `array.sort()` function and visualize the result in a graph."
   ]
  },
  {
   "cell_type": "code",
   "execution_count": null,
   "metadata": {},
   "outputs": [],
   "source": [
    "import matplotlib.pyplot as plt\n",
    "%matplotlib inline\n",
    "\n",
    "v = np.array([4, 7, 22, 56, 8, -2, 34, 1, 5, 45])\n",
    "\n",
    "\n",
    "def bubblesort(v):\n",
    "    for k in range(len(v)-1, 0, -1):\n",
    "        for i in range(k):\n",
    "            if v[i] > v[i+1]:\n",
    "                v[i], v[i+1] = v[i+1], v[i]\n",
    "    return v\n",
    "\n",
    "\n",
    "plt.plot(bubblesort(v))"
   ]
  },
  {
   "cell_type": "markdown",
   "metadata": {},
   "source": [
    "### Exercise 5\n",
    "\n",
    "Determine the intersection of the straight line $g$ and the plane $E$:\n",
    "\n",
    "$$g: \\vec{x}=\\left ( \\begin{array}{c} 2 \\\\ 3 \\\\ 0 \\end{array} \\right) +t\\left ( \\begin{array}{c} 1 \\\\ -2 \\\\ 2 \\end{array} \\right), \\quad t \\in \\mathbb{R},$$\n",
    "$$E: \\vec{x}= \\left ( \\begin{array}{c} 9 \\\\ 0 \\\\ 0 \\end{array} \\right) + r\\left ( \\begin{array}{c} -9 \\\\ 4.5 \\\\ 0 \\end{array} \\right) +s\\left ( \\begin{array}{c} -9 \\\\ 0 \\\\ 4.5 \\end{array} \\right), \\quad r,s\\in \\mathbb{R}.$$\n",
    "\n",
    "_Hint: You might want to refresh your knowledge of the parametric form at, for example,_ https://en.wikipedia.org/wiki/Line-plane_intersection."
   ]
  },
  {
   "cell_type": "code",
   "execution_count": null,
   "metadata": {},
   "outputs": [],
   "source": [
    "import numpy.linalg as nplin\n",
    "\n",
    "# defining matrices\n",
    "g = np.array([[2, 1],\n",
    "              [3, -2],\n",
    "              [0, 2]])\n",
    "e = np.array([[9, -9, -9],\n",
    "              [0, 4.5, 0],\n",
    "              [0, 0, 4.5]])\n",
    "\n",
    "# form system of linear equations: Ax = b\n",
    "b = g[:, 0] - e[:, 0]\n",
    "a = np.column_stack([-g[:, 1], e[:, 1:]])\n",
    "\n",
    "# solve system for x\n",
    "x = nplin.solve(a, b)\n",
    "x"
   ]
  },
  {
   "cell_type": "markdown",
   "metadata": {
    "inputHidden": false,
    "outputHidden": false
   },
   "source": [
    "### Exercise 6: Sorting algorithms\n",
    "\n",
    "Sorting algorithms are algorithms that put elements of a list in a certain order. Efficient sorting is important for optimizing the efficiency of complex algorithms. There are different sorting algorithms which differ in time complexity.\n",
    "\n",
    "1. Implement a function which uses _Bubblesort_ to sort a randomly generated list (numbers) in numerical order.\n",
    "2. Implement a function which uses _Quicksort_ achieve the same goal.\n",
    "\n",
    "_Hint: Inform yourself about the two different sorting algorithms first, for example,_\n",
    "https://en.wikipedia.org/wiki/Bubble_sort _and_ https://en.wikipedia.org/wiki/Quicksort."
   ]
  },
  {
   "cell_type": "code",
   "execution_count": null,
   "metadata": {},
   "outputs": [],
   "source": [
    "import random\n",
    "\n",
    "numbers = []\n",
    "for i in range(100):\n",
    "    numbers.append(random.randint(-10000, 10000))\n",
    "\n",
    "\n",
    "# 1\n",
    "def bubblesort(numbers):\n",
    "    n = len(numbers)\n",
    "    for i in range(n):\n",
    "        for j in range(0, n-i-1):\n",
    "            if numbers[j] > numbers[j+1]:\n",
    "                numbers[j], numbers[j+1] = numbers[j+1], numbers[j]\n",
    "    return numbers\n",
    "\n",
    "\n",
    "bubblesort(numbers)"
   ]
  },
  {
   "cell_type": "code",
   "execution_count": null,
   "metadata": {},
   "outputs": [],
   "source": [
    "# 2\n",
    "def partition(numbers, low, high):\n",
    "    i = low - 1\n",
    "    pivot = numbers[high]\n",
    "\n",
    "    for j in range(low, high):\n",
    "        if numbers[j] <= pivot:\n",
    "            i += 1\n",
    "            numbers[i], numbers[j] = numbers[j], numbers[i]\n",
    "    numbers[i+1], numbers[high] = numbers[high], numbers[i+1]\n",
    "    return i + 1\n",
    "\n",
    "\n",
    "def quicksort(numbers, low, high):\n",
    "    if low < high:\n",
    "        p = partition(numbers, low, high)\n",
    "        quicksort(numbers, low, p-1)\n",
    "        quicksort(numbers, p+1, high)\n",
    "    return numbers\n",
    "\n",
    "\n",
    "quicksort(numbers, 0, len(numbers) - 1)"
   ]
  },
  {
   "cell_type": "markdown",
   "metadata": {
    "inputHidden": false,
    "outputHidden": false
   },
   "source": [
    "### Exercise 7: Numerical differentiation\n",
    "\n",
    "1. Create a function which estimates the derivative of the function $f$ at the position $x=3$. You can use the simple finite difference formula:\n",
    "\n",
    "    $$\n",
    "    f'(x)=\\lim_{h \\rightarrow 0} \\dfrac{f(x+h) - f(x)}{h}\n",
    "    $$\n",
    "\n",
    "    The derivative function in Python should take the function to be derived, the position $x$ and the distance $h$ as arguments.\n",
    "\n",
    "\n",
    "2. Create a function which estimates the gradient of a scalar function $g: \\mathbb{R}^{n}\\rightarrow \\mathbb{R}$. The arguments of the gradient function should be the function $g$, the dimension $n$, the vector $v$ where the gradient shall be estimated and the distance $h$. Check your gradient function on the given function $g$ and vector $v$.\n",
    "\n",
    "3. Create a function which returns an approximation of the Hessian matrix $h$ of the function $g$ at $v$:\n",
    "  $$\n",
    "  H_{g}(v) := \\left( \\dfrac{\\partial^{2} g}{\\partial v_{i} \\partial v_{j}} (v) \\right)_{i, j=1, \\ldots, n}\n",
    "  $$\n",
    "  You can use the following identity:\n",
    "  $$\n",
    "  \\dfrac{\\partial}{\\partial y}\\left(\\dfrac{\\partial g}{\\partial x}\\right)(v) =\\lim_{h \\rightarrow 0}\\dfrac{\\dfrac{\\partial g}{\\partial x}(x, y+h, z)-\\dfrac{\\partial g}{\\partial x}(x, y, z)}{h}\\\\\n",
    " =\\lim_{h \\rightarrow 0} \\dfrac{\\dfrac{g(x+h,y+h,z)-g(x,y+h,z)}{h}-\\dfrac{g(x+h, y, z)-g(x, y, z)}{h}}{h}\\\\\n",
    " =\\lim_{h \\rightarrow 0}\\dfrac{g(x+h, y+h, z)-g(x, y+h, z)-g(x+h, y, z)+g(x, y, z)}{h^{2}}\n",
    "  $$"
   ]
  },
  {
   "cell_type": "code",
   "execution_count": null,
   "metadata": {},
   "outputs": [],
   "source": [
    "import numpy as np\n",
    "import matplotlib.pyplot as plt\n",
    "\n",
    "\n",
    "def f(x):\n",
    "    return x**2\n",
    "\n",
    "\n",
    "# 1\n",
    "def derivation(f, x, h):\n",
    "    return (f(x + h) - f(x)) / h\n",
    "\n",
    "\n",
    "t = np.arange(0., 6., 0.1)\n",
    "plt.plot(t, f(t), t, derivation(f, 3, 0.001) * t +\n",
    "         (9 - derivation(f, 3, 0.001) * 3))"
   ]
  },
  {
   "cell_type": "code",
   "execution_count": null,
   "metadata": {},
   "outputs": [],
   "source": [
    "def g(v):\n",
    "    return np.sin(v[0]) * v[1] + np.exp(v[2])\n",
    "\n",
    "\n",
    "v = np.array([2., 3., 1.])\n",
    "\n",
    "\n",
    "# 2\n",
    "def gradient(g, v, h):\n",
    "    n = len(v)\n",
    "    grad = np.empty(n)\n",
    "    for i in range(n):\n",
    "        hv = v.copy()\n",
    "        hv[i] += h\n",
    "        grad[i] = (g(hv) - g(v)) / h\n",
    "    return grad\n",
    "\n",
    "\n",
    "gradient(g, v, 0.001)"
   ]
  },
  {
   "cell_type": "code",
   "execution_count": null,
   "metadata": {},
   "outputs": [],
   "source": [
    "# 3\n",
    "def hessian(g, v, h):\n",
    "    n = len(v)\n",
    "    hes = np.empty([n, n])\n",
    "    for i in range(n):\n",
    "        for j in range(n):\n",
    "            v1 = v.copy()\n",
    "            v1[i] += h\n",
    "            v2 = v1.copy()\n",
    "            v2[j] += h\n",
    "            v4 = v.copy()\n",
    "            v4[j] += h\n",
    "            hes[i][j] = (g(v2) - g(v1) - g(v4) + g(v)) / (h**2)\n",
    "    return hes\n",
    "\n",
    "\n",
    "hessian(g, v, 0.001)"
   ]
  },
  {
   "cell_type": "markdown",
   "metadata": {
    "inputHidden": false,
    "outputHidden": false
   },
   "source": [
    "### Exercise 8: Numerical integration\n",
    "\n",
    "Create a function to approximate an integral of the function $f$ in the interval $(a, b)$. You can divide the area into $n$ equal width rectangles and add these up by using the formula:\n",
    "$$\n",
    "\\int_{a}^{b}f(x) \\approx \\dfrac{b-a}{n}\\left(f(x_{1})+f(x_{2})+...+f(x_{n})\\right)\n",
    "$$\n",
    "Where $x_{i}$ is given by $x_{i}=\\dfrac{(b-a)}{n} \\cdot i+a$.\n",
    "Check your integral approximation on the given function $f$ in the interval (1,4)."
   ]
  },
  {
   "cell_type": "code",
   "execution_count": null,
   "metadata": {},
   "outputs": [],
   "source": [
    "def f(x):\n",
    "    return x**3 + 2 * x**2 + 1\n",
    "\n",
    "\n",
    "def integral(f, a, b, n):\n",
    "    integral = 0\n",
    "    for j in range(n):\n",
    "        integral += f((b - a) / n * j + a)\n",
    "    integral *= (b - a) / n\n",
    "    return integral\n",
    "\n",
    "\n",
    "integral(f, 1, 4, 100000)"
   ]
  }
 ],
 "metadata": {
  "kernelspec": {
   "display_name": "Python 3",
   "language": "python",
   "name": "python3"
  },
  "language_info": {
   "codemirror_mode": {
    "name": "ipython",
    "version": 3
   },
   "file_extension": ".py",
   "mimetype": "text/x-python",
   "name": "python",
   "nbconvert_exporter": "python",
   "pygments_lexer": "ipython3",
   "version": "3.6.7"
  }
 },
 "nbformat": 4,
 "nbformat_minor": 2
}
