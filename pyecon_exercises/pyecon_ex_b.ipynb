{
 "cells": [
  {
   "cell_type": "markdown",
   "metadata": {},
   "source": [
    "# Exercises B\n",
    "_Version: October 31, 2020, see_ [PyEcon.org](https://pyecon.org)."
   ]
  },
  {
   "cell_type": "markdown",
   "metadata": {},
   "source": [
    "### Exercise 1: NHL Hockey\n",
    "The file `nhl1617.txt` contains data of all (non-goalie) players in the NHL who had at least some _ice time_, i.e. playing time, in the 2016/2017 regular season - without play-offs. Load the CSV data of the file `nhl1617.txt` in Python using `open` and further string transformations (_see below_). Try to cope with the huge string and allocate the information to a dictionary. Use the column names of the dataset as keys for the dictionary.\n",
    "\n",
    "Solve these tasks using only a dictionary consisting of lists but **not using** _pandas_:\n",
    "\n",
    "1. How many players have been recorded?\n",
    "1. A column _points_ (\"P\") is missing in the data. The number of points of a player is defined as the sum of his _goals_ (\"G\") and _assists_ (\"A\"). Add the points to your dictionary.\n",
    "1. Who is the top scorer in terms of points?\n",
    "1. How many German (non-goalie) players had some ice time in there 2016/2017 regular season? _Hint: Nationality of a player can be found in the dictionary entry \"Nat\". Germans are indicated by \"DEU\"._\n",
    "1. What are their names? *Hint: Names can be found in th entry \"Last_Name\" and \"First_Name\".*\n",
    "1. Who performed best among the German players in terms of points (\"P\")?\n",
    "1. How many points (\"P\") did he have?\n",
    "1. How well did he perform in the entire league? Put differently, what was his rank in terms of points?\n",
    "1. Find the top ten scorers (in terms of points) and print them including their number of point and their respective team.\n",
    "1. What are the three countries with the most players originating from?\n",
    "\n",
    "If you feel comfortable looping through dictionaries and lists, re-implement your codes **using** _pandas_."
   ]
  },
  {
   "cell_type": "code",
   "execution_count": null,
   "metadata": {},
   "outputs": [],
   "source": [
    "with open(\"data/nhl1617.txt\") as f:\n",
    "    data = f.read()\n",
    "data = data.replace('\"', '')\n",
    "data = data.splitlines()\n",
    "var_names = data[0]\n",
    "var_names = var_names.rsplit(\";\")\n",
    "data.pop(0)\n",
    "NHL = {}\n",
    "for keys in var_names:\n",
    "    NHL[keys] = []\n",
    "for line in data:\n",
    "    line = line.rsplit(';')\n",
    "    for info, keys in zip(line, NHL):\n",
    "        NHL[keys].append(info)\n",
    "NHL[\"Last_Name\"][:10]"
   ]
  },
  {
   "cell_type": "markdown",
   "metadata": {},
   "source": [
    "### Exercise 2: Same sex marriage - \"Ehe für Alle\"\n",
    "The file `data/votings.txt` contains the voting behavior of all members of the german parliament regarding a draft that aimed to legalise same sex marriage. Party membership is also part of the dataset.\n",
    "\n",
    "The following list contains the ministers: ['Merkel', 'Altmaier', 'Friedrich, Dr.', 'Leyen', 'Schmidt, Christian', 'Dobrindt', 'Maizière, Dr.', 'Schäuble']\n",
    "\n",
    "Note that _Wanka_ was not part of the German parliament. _Gröhe_ and _Müller_ did not participate in the poll.\n",
    "\n",
    "1. We are interested in the share of voting in favor of same sex marriage grouped by party membership.\n",
    "1. Display the votings of the members of the CDU/CSU who were also part of the top-level administration."
   ]
  },
  {
   "cell_type": "code",
   "execution_count": null,
   "metadata": {},
   "outputs": [],
   "source": [
    "names = ['Merkel', 'Altmaier', 'Friedrich, Dr.', 'Leyen', 'Schmidt, Christian',\n",
    "         'Dobrindt', 'Maizière, Dr.', 'Schäuble']"
   ]
  },
  {
   "cell_type": "markdown",
   "metadata": {},
   "source": [
    "### Exercise 3: Stock market data\n",
    "1. Read the file `amzn.csv` into a DataFrame.\n",
    "1. Read the file `dji.csv` into a new DataFrame.\n",
    "1. Remove all columns in both DataFrames except _Adj Close_ and _Volume_.\n",
    "1. Rename columns to _Amzn Adj Close_, _Amzn Volume_, _Dji Adj Close_, _Dji Volume_."
   ]
  },
  {
   "cell_type": "code",
   "execution_count": null,
   "metadata": {},
   "outputs": [],
   "source": [
    "# Enter your codes here...\n",
    "import pandas as pd"
   ]
  },
  {
   "cell_type": "markdown",
   "metadata": {},
   "source": [
    "### Exercise 4: Performances\n",
    "1. Concatenate both DataFrames along the _Date_ (rows) axis.\n",
    "1. Remove all rows which contain no data for Amazon.\n",
    "1. Let _Adj Close_ (2017-02-23) be the reference price (the base). Add two columns which give the _Adj Close_ as a percentage of the reference price.\n",
    "1. Add a column that contains the 10-days-rolling-correlation between the _Adj Close_ of Amazon and the Dji.\n",
    "1. Calculate the mean of the correlation columns."
   ]
  },
  {
   "cell_type": "code",
   "execution_count": null,
   "metadata": {},
   "outputs": [],
   "source": []
  },
  {
   "cell_type": "markdown",
   "metadata": {},
   "source": [
    "### Exercise 5: Simple trading algorithm\n",
    "Consider the Amazon DataFrame.\n",
    "\n",
    "1. Add two columns containing the upper and lower Bollinger Band (10-days-rolling-mean +/- standard deviation of the 10-days-rolling-mean).\n",
    "1. Add a column which says `BUY` if the _Adj Close_ breaks through the lower band (coming from below the lower band) and says `SELL` if the _Adj Close_ falls below the upper band (coming from above the upper band).\n",
    "1. Write a function that you provide with an initial investment and that computes the total return of investment based on the signals `BUY` and `SELL`.\n",
    "    1. Specify the amount of money to invest at the beginning.\n",
    "    1. At every `BUY` signal, you spend the total amount of your money to buy Amazon stocks.\n",
    "    1. At every `SELL` signal, you sell all stocks again.\n",
    "    1. At the end of the full period, compute the total return."
   ]
  },
  {
   "cell_type": "code",
   "execution_count": null,
   "metadata": {},
   "outputs": [],
   "source": []
  }
 ],
 "metadata": {
  "kernelspec": {
   "display_name": "Python 3",
   "language": "python",
   "name": "python3"
  },
  "language_info": {
   "codemirror_mode": {
    "name": "ipython",
    "version": 3
   },
   "file_extension": ".py",
   "mimetype": "text/x-python",
   "name": "python",
   "nbconvert_exporter": "python",
   "pygments_lexer": "ipython3",
   "version": "3.6.6"
  }
 },
 "nbformat": 4,
 "nbformat_minor": 2
}
