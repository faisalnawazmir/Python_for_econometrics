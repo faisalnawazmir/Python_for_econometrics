{
 "cells": [
  {
   "cell_type": "markdown",
   "metadata": {},
   "source": [
    "# Exercises B: Solutions\n",
    "_Version: October 31, 2020, see_ [PyEcon.org](https://pyecon.org)."
   ]
  },
  {
   "cell_type": "markdown",
   "metadata": {},
   "source": [
    "### Exercise 1: NHL Hockey\n",
    "The file `nhl1617.txt` contains data of all (non-goalie) players in the NHL who had at least some _ice time_, i.e. playing time, in the 2016/2017 regular season - without play-offs. Load the CSV data of the file `nhl1617.txt` in Python using `open` and further string transformations (_see below_). Try to cope with the huge string and allocate the information to a dictionary. Use the column names of the dataset as keys for the dictionary.\n",
    "\n",
    "Solve these tasks using only a dictionary consisting of lists but **not using** _pandas_:\n",
    "\n",
    "1. How many players have been recorded?\n",
    "1. A column _points_ (\"P\") is missing in the data. The number of points of a player is defined as the sum of his _goals_ (\"G\") and _assists_ (\"A\"). Add the points to your dictionary.\n",
    "1. Who is the top scorer in terms of points?\n",
    "1. How many German (non-goalie) players had some ice time in there 2016/2017 regular season? _Hint: Nationality of a player can be found in the dictionary entry \"Nat\". Germans are indicated by \"DEU\"._\n",
    "1. What are their names? *Hint: Names can be found in th entry \"Last_Name\" and \"First_Name\".*\n",
    "1. Who performed best among the German players in terms of points (\"P\")?\n",
    "1. How many points (\"P\") did he have?\n",
    "1. How well did he perform in the entire league? Put differently, what was his rank in terms of points?\n",
    "1. Find the top ten scorers (in terms of points) and print them including their number of point and their respective team.\n",
    "1. What are the three countries with the most players originating from?\n",
    "\n",
    "If you feel comfortable looping through dictionaries and lists, re-implement your codes **using** _pandas_."
   ]
  },
  {
   "cell_type": "code",
   "execution_count": null,
   "metadata": {},
   "outputs": [],
   "source": [
    "with open(\"data/nhl1617.txt\") as f:\n",
    "    data = f.read()\n",
    "data = data.replace('\"', '')\n",
    "data = data.splitlines()\n",
    "var_names = data[0]\n",
    "var_names = var_names.rsplit(\";\")\n",
    "data.pop(0)\n",
    "NHL = {}\n",
    "for keys in var_names:\n",
    "    NHL[keys] = []\n",
    "for line in data:\n",
    "    line = line.rsplit(';')\n",
    "    for info, keys in zip(line, NHL):\n",
    "        NHL[keys].append(info)\n",
    "NHL[\"Last_Name\"][:10]"
   ]
  },
  {
   "cell_type": "code",
   "execution_count": null,
   "metadata": {},
   "outputs": [],
   "source": [
    "# Total number of players\n",
    "n = len(NHL[\"Last_Name\"])\n",
    "n"
   ]
  },
  {
   "cell_type": "code",
   "execution_count": null,
   "metadata": {},
   "outputs": [],
   "source": [
    "# Creating the points column\n",
    "NHL[\"P\"] = []\n",
    "for G, A in zip(NHL[\"G\"], NHL[\"A\"]):\n",
    "    NHL[\"P\"].append(int(G) + int(A))\n",
    "NHL[\"P\"][:10]"
   ]
  },
  {
   "cell_type": "code",
   "execution_count": null,
   "metadata": {},
   "outputs": [],
   "source": [
    "# Finding the top scorer(s)\n",
    "max_p = max(NHL[\"P\"])\n",
    "index = [i for i in range(n) if NHL[\"P\"][i] == max_p]\n",
    "if len(index) == 1:\n",
    "    s = \" is\"\n",
    "else:\n",
    "    s = \"s are\"\n",
    "print(f\"The top scorer{s}:\")\n",
    "for i in index:\n",
    "    print(f\"{NHL['Last_Name'][i]}, {NHL['First_Name'][i]}\")"
   ]
  },
  {
   "cell_type": "code",
   "execution_count": null,
   "metadata": {},
   "outputs": [],
   "source": [
    "# Finding the German (non-goalie) players of the regular season\n",
    "index = [i for i in range(n) if NHL[\"Nat\"][i] == \"DEU\"]\n",
    "\n",
    "# Alternative\n",
    "# count = 0\n",
    "# for nation in NHL[\"Nat\"]:\n",
    "#     if nation == \"DEU\":\n",
    "#         count = count + 1\n",
    "\n",
    "print(f\"In the 2016/17 regular season there were {len(index)}\"\n",
    "      f\" German (non-goalie) players:\")\n",
    "for i in index:\n",
    "    print(f\"{NHL['Last_Name'][i]}, {NHL['First_Name'][i]}\")"
   ]
  },
  {
   "cell_type": "code",
   "execution_count": null,
   "metadata": {},
   "outputs": [],
   "source": [
    "# Finding the German top scorer(s)\n",
    "ger_p = [NHL[\"P\"][i] for i in index]\n",
    "max_p = max(ger_p)\n",
    "index_p = [index[i] for i, p in enumerate(ger_p) if p == max_p]\n",
    "for i in index_p:\n",
    "    print(f\"{NHL['Last_Name'][i]} (Points: {max_p}) was\"\n",
    "          f\" the best performing German NHL player.\")"
   ]
  },
  {
   "cell_type": "code",
   "execution_count": null,
   "metadata": {},
   "outputs": [],
   "source": [
    "# Assessing relative performance\n",
    "count = 1\n",
    "for i in NHL[\"P\"]:\n",
    "    if i > max_p:\n",
    "        count += 1\n",
    "print(f\"{NHL['Last_Name'][index_p[0]]} was the {count}th\"\n",
    "      f\" best performer in the entire League with respect to points.\")"
   ]
  },
  {
   "cell_type": "code",
   "execution_count": null,
   "metadata": {},
   "outputs": [],
   "source": [
    "# Top 10 scorers\n",
    "index = [i for i, j in sorted(enumerate(NHL[\"P\"]),\n",
    "                              reverse=True,\n",
    "                              key=lambda x: x[1])]\n",
    "for i in range(0, 10):\n",
    "    print(f\"{i + 1:2}. {NHL['Last_Name'][index[i]]:15}\"\n",
    "          f\"  Team: {NHL['Team'][index[i]]:10}\"\n",
    "          f\"  Points: {NHL['P'][index[i]]:3}\")"
   ]
  },
  {
   "cell_type": "code",
   "execution_count": null,
   "metadata": {},
   "outputs": [],
   "source": [
    "# The three countries with the most players originating from.\n",
    "counts = {}\n",
    "for nation in NHL[\"Nat\"]:\n",
    "    if nation in counts:\n",
    "        counts[nation] += 1\n",
    "    else:\n",
    "        counts[nation] = 1\n",
    "top3 = sorted(counts.items(), key=lambda x: x[1], reverse=True)[0:3]\n",
    "for nation, count in top3:\n",
    "    print(f\"{nation}: {count}\")"
   ]
  },
  {
   "cell_type": "markdown",
   "metadata": {},
   "source": [
    "#### Solution using pandas:"
   ]
  },
  {
   "cell_type": "code",
   "execution_count": null,
   "metadata": {},
   "outputs": [],
   "source": [
    "import pandas as pd\n",
    "nhl = pd.read_csv(\"data/nhl1617.txt\", sep=\";\")\n",
    "nhl.count()"
   ]
  },
  {
   "cell_type": "code",
   "execution_count": null,
   "metadata": {},
   "outputs": [],
   "source": [
    "nhl[\"P\"] = nhl[\"G\"] + nhl[\"A\"]\n",
    "nhl.head()"
   ]
  },
  {
   "cell_type": "code",
   "execution_count": null,
   "metadata": {},
   "outputs": [],
   "source": [
    "max_index = nhl[\"P\"].idxmax()\n",
    "nhl.iloc[max_index]"
   ]
  },
  {
   "cell_type": "code",
   "execution_count": null,
   "metadata": {},
   "outputs": [],
   "source": [
    "germans = nhl[nhl[\"Cntry\"] == \"DEU\"]\n",
    "print(germans.count())\n",
    "germans"
   ]
  },
  {
   "cell_type": "code",
   "execution_count": null,
   "metadata": {},
   "outputs": [],
   "source": [
    "max_index = germans[\"P\"].idxmax()\n",
    "nhl.iloc[max_index]"
   ]
  },
  {
   "cell_type": "code",
   "execution_count": null,
   "metadata": {},
   "outputs": [],
   "source": [
    "nhl = nhl.sort_values('P', ascending=False).reset_index()\n",
    "nhl[nhl[\"Last_Name\"] == \"Draisaitl\"]\n"
   ]
  },
  {
   "cell_type": "code",
   "execution_count": null,
   "metadata": {},
   "outputs": [],
   "source": [
    "nhl.iloc[0:10]"
   ]
  },
  {
   "cell_type": "code",
   "execution_count": null,
   "metadata": {},
   "outputs": [],
   "source": [
    "country = nhl[[\"Cntry\", \"Last_Name\"]].groupby([\"Cntry\"]).count()\\\n",
    "          .sort_values(\"Last_Name\", ascending=False)\n",
    "country[:3]"
   ]
  },
  {
   "cell_type": "markdown",
   "metadata": {},
   "source": [
    "### Exercise 2: Same sex marriage - \"Ehe für Alle\"\n",
    "The file `data/votings.txt` contains the voting behavior of all members of the german parliament regarding a draft that aimed to legalise same sex marriage. Party membership is also part of the dataset.\n",
    "\n",
    "The following list contains the ministers: ['Merkel', 'Altmaier', 'Friedrich, Dr.', 'Leyen', 'Schmidt, Christian', 'Dobrindt', 'Maizière, Dr.', 'Schäuble']\n",
    "\n",
    "Note that _Wanka_ was not part of the German parliament. _Gröhe_ and _Müller_ did not participate in the poll.\n",
    "\n",
    "1. We are interested in the share of voting in favor of same sex marriage grouped by party membership.\n",
    "1. Display the votings of the members of the CDU/CSU who were also part of the top-level administration."
   ]
  },
  {
   "cell_type": "code",
   "execution_count": null,
   "metadata": {},
   "outputs": [],
   "source": [
    "names = ['Merkel', 'Altmaier', 'Friedrich, Dr.', 'Leyen', 'Schmidt, Christian',\n",
    "         'Dobrindt', 'Maizière, Dr.', 'Schäuble']"
   ]
  },
  {
   "cell_type": "code",
   "execution_count": null,
   "metadata": {},
   "outputs": [],
   "source": [
    "# one solution using pandas\n",
    "import pandas as pd\n",
    "\n",
    "df = pd.read_csv(\"data/votings.txt\", sep=\";\")\n",
    "df.head()"
   ]
  },
  {
   "cell_type": "code",
   "execution_count": null,
   "metadata": {},
   "outputs": [],
   "source": [
    "res = df.groupby([\"Party\", \"Vote\"]).count()\n",
    "res.columns = [\"abs\"]\n",
    "res"
   ]
  },
  {
   "cell_type": "code",
   "execution_count": null,
   "metadata": {},
   "outputs": [],
   "source": [
    "res[\"rel\"] = res / res.groupby(level=0).sum()\n",
    "res"
   ]
  },
  {
   "cell_type": "code",
   "execution_count": null,
   "metadata": {},
   "outputs": [],
   "source": [
    "# without counting the non-votes\n",
    "res = df[df.Vote != \"Nicht abg.\"].groupby([\"Party\", \"Vote\"]).count()\n",
    "res.columns = [\"abs\"]\n",
    "res[\"rel\"] = res / res.groupby(level=0).sum()\n",
    "res"
   ]
  },
  {
   "cell_type": "code",
   "execution_count": null,
   "metadata": {},
   "outputs": [],
   "source": [
    "# yet another solution without using pandas\n",
    "with open(\"data/votings.txt\") as f:\n",
    "    data = f.read()\n",
    "data = data.replace('\"', '')\n",
    "data = data.splitlines()\n",
    "var_names = data[0]\n",
    "var_names = var_names.rsplit(';')\n",
    "data.pop(0)\n",
    "vote = {}\n",
    "for keys in var_names:\n",
    "    vote[keys] = []\n",
    "for line in data:\n",
    "    line = line.rsplit(';')\n",
    "    for info, keys in zip(line, vote):\n",
    "        vote[keys].append(info)\n",
    "parties = {}\n",
    "for party in list(set(vote[\"Party\"])):\n",
    "    parties[party] = []\n",
    "for party in parties:\n",
    "    num_assembly = [1 for i, j in zip(vote[\"Vote\"], vote[\"Party\"])\n",
    "                    if i != \"Nicht abg.\" and j == party]\n",
    "    num_assembly = sum(num_assembly)\n",
    "    share = [1 for i, j in zip(vote[\"Vote\"], vote[\"Party\"])\n",
    "             if i == \"Ja\" and j == party]\n",
    "    share = sum(share) / num_assembly\n",
    "    parties[party] = share\n",
    "print(parties)"
   ]
  },
  {
   "cell_type": "code",
   "execution_count": null,
   "metadata": {},
   "outputs": [],
   "source": [
    "# one solution using pandas\n",
    "df[df.Assemblyman.str.contains(\"|\".join(names))]"
   ]
  },
  {
   "cell_type": "code",
   "execution_count": null,
   "metadata": {},
   "outputs": [],
   "source": [
    "# yet another solution without using pandas\n",
    "index = []\n",
    "\n",
    "for i in range(0, len(vote['Assemblyman'])):\n",
    "    for j in names:\n",
    "        if j in vote['Assemblyman'][i]:\n",
    "            index.append(i)\n",
    "\n",
    "for i in index:\n",
    "    assemblyman = vote['Assemblyman'][i]\n",
    "    name = assemblyman[assemblyman.find(',')+1:].replace(' ', '')\n",
    "    name = name + ' ' + assemblyman[0:assemblyman.find(',')]\n",
    "    print(name, 'voted \"%s\".' % vote['Vote'][i])"
   ]
  },
  {
   "cell_type": "markdown",
   "metadata": {},
   "source": [
    "### Exercise 3: Stock market data\n",
    "1. Read the file `amzn.csv` into a DataFrame.\n",
    "1. Read the file `dji.csv` into a new DataFrame.\n",
    "1. Remove all columns in both DataFrames except _Adj Close_ and _Volume_.\n",
    "1. Rename columns to _Amzn Adj Close_, _Amzn Volume_, _Dji Adj Close_, _Dji Volume_."
   ]
  },
  {
   "cell_type": "code",
   "execution_count": null,
   "metadata": {},
   "outputs": [],
   "source": [
    "import pandas as pd\n",
    "amzn = pd.read_csv(\"data/amzn.csv\", index_col=0, parse_dates=True)\n",
    "dow = pd.read_csv(\"data/dji.csv\", index_col=0, parse_dates=True)\n",
    "amzn = amzn.drop([\"Open\", \"Close\", \"High\", \"Low\"], axis=1)\n",
    "dow = dow.drop([\"Open\", \"Close\", \"High\", \"Low\"], axis=1)\n",
    "amzn = amzn.rename(columns={\"Adj Close\": \"Amzn Adj Close\",\n",
    "                            \"Volume\": \"Amzn Volume\"})\n",
    "dow = dow.rename(columns={\"Adj Close\": \"Dji Adj Close\",\n",
    "                          \"Volume\": \"Dji Volume\"})\n",
    "amzn.head()"
   ]
  },
  {
   "cell_type": "code",
   "execution_count": null,
   "metadata": {},
   "outputs": [],
   "source": [
    "dow.head()"
   ]
  },
  {
   "cell_type": "markdown",
   "metadata": {},
   "source": [
    "### Exercise 4: Performances\n",
    "1. Concatenate both DataFrames along the _Date_ (rows) axis.\n",
    "1. Remove all rows which contain no data for Amazon.\n",
    "1. Let _Adj Close_ (2017-02-23) be the reference price (the base). Add two columns which give the _Adj Close_ as a percentage of the reference price.\n",
    "1. Add a column that contains the 10-days-rolling-correlation between the _Adj Close_ of Amazon and the Dji.\n",
    "1. Calculate the mean of the correlation columns."
   ]
  },
  {
   "cell_type": "code",
   "execution_count": null,
   "metadata": {},
   "outputs": [],
   "source": [
    "all_data = pd.concat([amzn, dow], axis=1)\n",
    "all_data = all_data.dropna(axis=0, how=\"any\")\n",
    "all_data[\"Amzn percentage\"] = all_data[\"Amzn Adj Close\"] /\\\n",
    "                              all_data[\"Amzn Adj Close\"][0] * 100\n",
    "all_data[\"Dji percentage\"] = all_data[\"Dji Adj Close\"] /\\\n",
    "                             all_data[\"Dji Adj Close\"][0] * 100\n",
    "all_data[\"Corr\"] = all_data[\"Amzn Adj Close\"].rolling(window=10).\\\n",
    "                                              corr(all_data[\"Dji Adj Close\"])\n",
    "print(all_data[\"Corr\"].mean())"
   ]
  },
  {
   "cell_type": "markdown",
   "metadata": {},
   "source": [
    "### Exercise 5: Simple trading algorithm\n",
    "Consider the Amazon DataFrame.\n",
    "\n",
    "1. Add two columns containing the upper and lower Bollinger Band (10-days-rolling-mean +/- standard deviation of the 10-days-rolling-mean).\n",
    "1. Add a column which says `BUY` if the _Adj Close_ breaks through the lower band (coming from below the lower band) and says `SELL` if the _Adj Close_ falls below the upper band (coming from above the upper band).\n",
    "1. Write a function that you provide with an initial investment and that computes the total return of investment based on the signals `BUY` and `SELL`.\n",
    "    1. Specify the amount of money to invest at the beginning.\n",
    "    1. At every `BUY` signal, you spend the total amount of your money to buy Amazon stocks.\n",
    "    1. At every `SELL` signal, you sell all stocks again.\n",
    "    1. At the end of the full period, compute the total return."
   ]
  },
  {
   "cell_type": "code",
   "execution_count": null,
   "metadata": {},
   "outputs": [],
   "source": [
    "amzn[\"Rolling\"] = amzn[\"Amzn Adj Close\"].rolling(window=10).mean()\n",
    "amzn[\"Std\"] = amzn[\"Amzn Adj Close\"].rolling(window=10).std()\n",
    "amzn[\"Upper\"] = amzn[\"Rolling\"] + amzn[\"Std\"]\n",
    "amzn[\"Lower\"] = amzn[\"Rolling\"] - amzn[\"Std\"]\n",
    "amzn[\"Trade\"] = \"\"\n",
    "\n",
    "%matplotlib inline\n",
    "amzn[[\"Lower\", \"Amzn Adj Close\", \"Upper\"]].plot(figsize=(12, 12))"
   ]
  },
  {
   "cell_type": "code",
   "execution_count": null,
   "metadata": {},
   "outputs": [],
   "source": [
    "for i in range(1, len(amzn.index)):\n",
    "    if amzn[\"Amzn Adj Close\"][i] > amzn[\"Lower\"][i] and\\\n",
    "       amzn[\"Amzn Adj Close\"][i-1] < amzn[\"Lower\"][i-1]:\n",
    "        amzn.at[amzn.index[i], 'Trade'] = 'BUY'\n",
    "\n",
    "    if amzn[\"Amzn Adj Close\"][i] < amzn[\"Upper\"][i] and\\\n",
    "       amzn[\"Amzn Adj Close\"][i-1] > amzn[\"Upper\"][i-1]:\n",
    "        amzn.at[amzn.index[i], 'Trade'] = 'SELL'\n",
    "\n",
    "amzn.head(20)"
   ]
  },
  {
   "cell_type": "code",
   "execution_count": null,
   "metadata": {},
   "outputs": [],
   "source": [
    "amzn.tail(20)"
   ]
  },
  {
   "cell_type": "code",
   "execution_count": null,
   "metadata": {},
   "outputs": [],
   "source": [
    "def algo(amzn, invest, lag=1):\n",
    "    last_order = \"SELL\"\n",
    "    stocks = 0\n",
    "    cash = invest\n",
    "    for i in range(lag, len(amzn.index)):\n",
    "        if amzn[\"Trade\"][i-lag] == \"BUY\" and last_order == \"SELL\":\n",
    "            stocks = cash / amzn[\"Amzn Adj Close\"][i]\n",
    "            cash = 0\n",
    "            last_order = \"BUY\"\n",
    "            print(f\"Buy {stocks:5.2f} stocks on {amzn.index[i].date()}\"\n",
    "                  f\" at a price of {amzn['Amzn Adj Close'][i]:7.2f}\")\n",
    "        if amzn[\"Trade\"][i-lag] == \"SELL\" and last_order == \"BUY\":\n",
    "            print(f\"Sell {stocks:4.2f} stocks on {amzn.index[i].date()}\"\n",
    "                  f\" at a price of {amzn['Amzn Adj Close'][i]:7.2f}\")\n",
    "            cash = amzn[\"Amzn Adj Close\"][i] * stocks\n",
    "            stocks = 0\n",
    "            last_order = \"SELL\"\n",
    "    if stocks > 0:\n",
    "        cash = amzn[\"Amzn Adj Close\"][-1] * stocks\n",
    "    return (cash - invest) / invest * 100\n",
    "\n",
    "\n",
    "# let's invest 1000 USD\n",
    "invest = 1000\n",
    "total_return = algo(amzn, invest)\n",
    "print(f\"Your total return of investment is {total_return:.2f} %,\"\n",
    "      f\" i.e. {total_return * invest / 100:.2f} USD!\")"
   ]
  }
 ],
 "metadata": {
  "kernelspec": {
   "display_name": "Python 3",
   "language": "python",
   "name": "python3"
  },
  "language_info": {
   "codemirror_mode": {
    "name": "ipython",
    "version": 3
   },
   "file_extension": ".py",
   "mimetype": "text/x-python",
   "name": "python",
   "nbconvert_exporter": "python",
   "pygments_lexer": "ipython3",
   "version": "3.6.7"
  }
 },
 "nbformat": 4,
 "nbformat_minor": 2
}
